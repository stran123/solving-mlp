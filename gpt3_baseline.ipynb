{
 "cells": [
  {
   "cell_type": "code",
   "execution_count": 1,
   "metadata": {},
   "outputs": [],
   "source": [
    "import torch\n",
    "from util import cleaner\n",
    "from collections import Counter"
   ]
  },
  {
   "cell_type": "code",
   "execution_count": 6,
   "metadata": {},
   "outputs": [],
   "source": [
    "def data_loader():\n",
    "    with open(f'data/test_data_2800/questions.txt', 'r') as f:\n",
    "        questions = f.read().split('\\n')\n",
    "    with open(f'data/test_data_2800/answers.txt', 'r') as f:\n",
    "        answers = f.read().split('\\n')\n",
    "    with open(f'data/test_data_2800/model_answers.txt', 'r') as f:\n",
    "        model_answers = f.read().split('\\n')\n",
    "    with open(\"data/question-to-topic-cleaned.json\", \"r\") as f:\n",
    "        question_to_topic = eval(f.readline())\n",
    "    return questions, answers, model_answers, question_to_topic"
   ]
  },
  {
   "cell_type": "code",
   "execution_count": 15,
   "metadata": {},
   "outputs": [],
   "source": [
    "'''\n",
    "Calls GPT-3 on an input question.\n",
    ":param input_question: str the question to pass into GPT-3\n",
    ":returns: str the response from GPT-3\n",
    "'''\n",
    "def evaluate_on_gpt3(input_question):\n",
    "    return \"0\"\n",
    "    raise NotImplementedError()\n",
    "\n",
    "'''\n",
    "Determines if `response` and `answer` are equivalent\n",
    ":param response: str response given by a model\n",
    ":param answer: float/int the correct answer\n",
    ":returns: bool whether `response` represents `answer`\n",
    "'''\n",
    "def correct(response, answer):\n",
    "    return eval(response) == answer\n",
    "    raise NotImplementedError()"
   ]
  },
  {
   "cell_type": "code",
   "execution_count": 22,
   "metadata": {},
   "outputs": [],
   "source": [
    "def main():\n",
    "    questions, answers, model_answers, question_to_topic = data_loader()\n",
    "    answers = [eval(ans) for ans in answers]\n",
    "    model_answers = [eval(ans) if ans != '' else None for ans in model_answers]\n",
    "    question_topics = [question_to_topic[cleaner(question)] for question in questions]\n",
    "    topic_to_score_gpt3 = {}\n",
    "    topic_to_score_model = {}\n",
    "    topic_to_freq = Counter(question_topics)\n",
    "    \n",
    "    for question,answer,model_answer,topic in zip(questions, answers, model_answers, question_topics):\n",
    "        response_gpt3 = evaluate_on_gpt3(question)\n",
    "        if correct(response_gpt3, answer): # determine if response and answer are the same\n",
    "            topic_to_score_gpt3[topic] = topic_to_score_gpt3.get(topic, 0) + 1\n",
    "        if model_answer == answer:\n",
    "            topic_to_score_model[topic] = topic_to_score_model.get(topic, 0) + 1\n",
    "    \n",
    "    topic_to_acc_gpt3 = {topic: topic_to_score_gpt3[topic]/topic_to_freq[topic] for topic in topic_to_score_gpt3}\n",
    "    topic_to_acc_model = {topic: topic_to_score_model[topic]/topic_to_freq[topic] for topic in topic_to_score_model}\n",
    "    test_score_gpt3 = sum([topic_to_score_gpt3[topic] for topic in topic_to_score_gpt3])/sum([topic_to_freq[topic] for topic in topic_to_score_gpt3])\n",
    "    topic_score_gpt3 = sum([topic_to_score_gpt3[topic]/(12*topic_to_freq[topic]) for topic in topic_to_score_gpt3])\n",
    "    test_score_model = sum([topic_to_score_model[topic] for topic in topic_to_score_model])/sum([topic_to_freq[topic] for topic in topic_to_score_model])\n",
    "    topic_score_model = sum([topic_to_score_model[topic]/(12*topic_to_freq[topic]) for topic in topic_to_score_model])\n",
    "    print('GPT-3 performance:')\n",
    "    print(topic_to_acc_gpt3)\n",
    "    print(f'Score on test data: {test_score_gpt3}')\n",
    "    print(f'Weighted score across all topics: {topic_score_gpt3}')\n",
    "    print('\\nOur model performance:')\n",
    "    print(topic_to_acc_model)\n",
    "    print(f'Score on test data: {test_score_model}')\n",
    "    print(f'Weighted score across all topics: {topic_score_model}')"
   ]
  },
  {
   "cell_type": "code",
   "execution_count": 23,
   "metadata": {},
   "outputs": [
    {
     "name": "stdout",
     "output_type": "stream",
     "text": [
      "GPT-3 performance:\n",
      "{'p': 0.2777777777777778, 'cnn': 0.019704433497536946, 'sm_mdp': 0.2403846153846154, 'lr': 0.06209150326797386, 'f': 0.03767123287671233, 'r': 0.017605633802816902, 'rnn': 0.03409090909090909, 'b': 0.02127659574468085, 'nn_ii': 0.005319148936170213}\n",
      "Score on test data: 0.08112652374947457\n",
      "Weighted score across all topics: 0.05966015419826612\n",
      "\n",
      "Our model performance:\n",
      "{'p': 0.9806763285024155, 'dtnn': 1.0, 'rnn': 1.0, 'cnn': 0.8571428571428571, 'lr': 0.8627450980392157, 'f': 0.8561643835616438, 'r': 0.971830985915493, 'nn_i': 1.0, 'nn_ii': 0.9680851063829787, 'b': 1.0, 'sm_mdp': 1.0, 'rl': 1.0}\n",
      "Score on test data: 0.9310714285714285\n",
      "Weighted score across all topics: 0.9580537299620504\n"
     ]
    }
   ],
   "source": [
    "main()"
   ]
  },
  {
   "cell_type": "code",
   "execution_count": null,
   "metadata": {},
   "outputs": [],
   "source": []
  }
 ],
 "metadata": {
  "kernelspec": {
   "display_name": "Python 3",
   "language": "python",
   "name": "python3"
  },
  "language_info": {
   "codemirror_mode": {
    "name": "ipython",
    "version": 3
   },
   "file_extension": ".py",
   "mimetype": "text/x-python",
   "name": "python",
   "nbconvert_exporter": "python",
   "pygments_lexer": "ipython3",
   "version": "3.8.5"
  }
 },
 "nbformat": 4,
 "nbformat_minor": 2
}
