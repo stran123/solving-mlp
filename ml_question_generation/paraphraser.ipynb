{
 "cells": [
  {
   "cell_type": "code",
   "execution_count": 7,
   "id": "geological-solomon",
   "metadata": {},
   "outputs": [],
   "source": [
    "import torch\n",
    "from transformers import T5ForConditionalGeneration,T5Tokenizer"
   ]
  },
  {
   "cell_type": "code",
   "execution_count": 8,
   "id": "dirty-remains",
   "metadata": {},
   "outputs": [],
   "source": [
    "\n",
    "def set_seed(seed):\n",
    "  torch.manual_seed(seed)\n",
    "  if torch.cuda.is_available():\n",
    "    torch.cuda.manual_seed_all(seed)"
   ]
  },
  {
   "cell_type": "code",
   "execution_count": 9,
   "id": "applicable-performer",
   "metadata": {},
   "outputs": [],
   "source": [
    "set_seed(42)"
   ]
  },
  {
   "cell_type": "code",
   "execution_count": 10,
   "id": "operating-aggregate",
   "metadata": {},
   "outputs": [],
   "source": [
    "model = T5ForConditionalGeneration.from_pretrained('ramsrigouthamg/t5_paraphraser')\n",
    "# model = pickle.load(open(\"pretrained_t5\", 'rb'))\n",
    "tokenizer = T5Tokenizer.from_pretrained('t5-base')\n",
    "device = torch.device(\"cuda\" if torch.cuda.is_available() else \"cpu\")\n",
    "# print (\"device \",device)\n",
    "model = model.to(device)"
   ]
  },
  {
   "cell_type": "code",
   "execution_count": 29,
   "id": "tutorial-defensive",
   "metadata": {},
   "outputs": [],
   "source": [
    "def paraphrase(sentence, num_similar=10):\n",
    "    # sentence = \"If f(theta) is 3 times theta plus 19 squared and theta is 1 what is f(theta)?\"\n",
    "    text =  \"paraphrase: \" + sentence + \" </s>\"\n",
    "    encoding = tokenizer.encode_plus(text,pad_to_max_length=True, return_tensors=\"pt\")\n",
    "    input_ids, attention_masks = encoding[\"input_ids\"].to(device), encoding[\"attention_mask\"].to(device)\n",
    "\n",
    "    # set top_k = 50 and set top_p = 0.95 and num_return_sequences = 3\n",
    "    beam_outputs = model.generate(\n",
    "        input_ids=input_ids, attention_mask=attention_masks,\n",
    "        do_sample=True,\n",
    "        max_length=1024,\n",
    "        top_k=120,\n",
    "        top_p=1,\n",
    "        early_stopping=True,\n",
    "        num_return_sequences=15\n",
    "    )\n",
    "\n",
    "\n",
    "    # print (\"\\nOriginal Question ::\")\n",
    "    # print (sentence)\n",
    "    # print (\"\\n\")\n",
    "    # print (\"Paraphrased Questions :: \")\n",
    "    final_outputs =[]\n",
    "    for beam_output in beam_outputs:\n",
    "        sent = tokenizer.decode(beam_output, skip_special_tokens=True,clean_up_tokenization_spaces=True)\n",
    "        if sent.lower() != sentence.lower() and sent not in final_outputs:\n",
    "            final_outputs.append(sent)\n",
    "\n",
    "    # for i, final_output in enumerate(final_outputs):\n",
    "    #     print(\"{}: {}\".format(i, final_output))\n",
    "    return final_outputs[:num_similar]"
   ]
  },
  {
   "cell_type": "code",
   "execution_count": 30,
   "id": "supposed-evolution",
   "metadata": {},
   "outputs": [
    {
     "name": "stdout",
     "output_type": "stream",
     "text": [
      "10\n",
      "['Write a procedure that takes a 2D array and returns the last column as a two dimensional array.', 'Write a procedure that gives a 2D array and returns the final column as a 2D array.', 'Write a procedure that takes a 2D array and returns the last column as a two dimensional array. *Note: This procedure takes 2D arrays into account.', 'Write a procedure that takes a base 2D array and returns the final columns as a two dimensional array.', 'Write a procedure that takes a 2D array and returns the final column as two dimensional array.', 'Write a procedure that takes a 2D array and returns the final column as a two dimensional array, but the object is a number. In each case, the procedure should take two dediments. Return dediments.In each case, if the array is 2D, may be different.', 'Write a procedure that takes a 2D array and return the final column as a 2D array.', 'Write a procedure that takes a 2D array if it returns the final column as a two dimensional array.', 'Write a procedure that takes a 2D array and returns the final column as a two-dimensional array. A script is run but the procedure is not successful.', 'Write a procedure that takes a 2D array and return the final column as a two dimensional array.']\n"
     ]
    }
   ],
   "source": [
    "result = paraphrase(\"Write a procedure that takes a 2D array and returns the final column as a two dimensional array.\", 10)\n",
    "print(len(result))\n",
    "print(result)"
   ]
  },
  {
   "cell_type": "code",
   "execution_count": null,
   "id": "deluxe-stream",
   "metadata": {},
   "outputs": [],
   "source": []
  }
 ],
 "metadata": {
  "kernelspec": {
   "display_name": "Python 3",
   "language": "python",
   "name": "python3"
  },
  "language_info": {
   "codemirror_mode": {
    "name": "ipython",
    "version": 3
   },
   "file_extension": ".py",
   "mimetype": "text/x-python",
   "name": "python",
   "nbconvert_exporter": "python",
   "pygments_lexer": "ipython3",
   "version": "3.7.9"
  }
 },
 "nbformat": 4,
 "nbformat_minor": 5
}
